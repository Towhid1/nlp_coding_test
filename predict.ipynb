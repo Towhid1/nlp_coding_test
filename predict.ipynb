{
 "cells": [
  {
   "cell_type": "code",
   "execution_count": 9,
   "metadata": {},
   "outputs": [],
   "source": [
    "import joblib\n",
    "from gensim.models import Word2Vec\n",
    "from tensorflow.keras.models import load_model\n",
    "\n",
    "from utils import get_name\n",
    "\n",
    "NEW_W2V_PATH = \"model/word2vec_new.model\"\n",
    "LABEL2CLASS_PATH = \"model/label2class.joblib\"\n",
    "MODEL_PATH = \"model/trained_ann_model.h5\"\n",
    "\n",
    "\n",
    "def predict(sentence: str) -> None:\n",
    "    \"\"\"\n",
    "    Get name from sentence\n",
    "    \"\"\"\n",
    "    # Load word2vec, model & label2class\n",
    "    model = Word2Vec.load(NEW_W2V_PATH)\n",
    "    label2class = joblib.load(LABEL2CLASS_PATH)\n",
    "    ann_model = load_model(MODEL_PATH)\n",
    "    name, tag = get_name(sentence, model, ann_model, label2class)\n"
   ]
  },
  {
   "cell_type": "code",
   "execution_count": 10,
   "metadata": {},
   "outputs": [
    {
     "name": "stdout",
     "output_type": "stream",
     "text": [
      "Given sentence: আব্দুর রহিম নামের কাস্টমারকে একশ টাকা বাকি দিলাম\n",
      "Extracted names: আব্দুর রহিম \n",
      "Given sentence: যুবলীগের কর্মী মাসুম ছাত্রদলের কর্মী সাদ্দামকে গুলি করেন\n",
      "Extracted names: মাসুম ,সাদ্দামকে \n",
      "Given sentence: বন্দর থানার ভারপ্রাপ্ত কর্মকর্তা\n",
      "Extracted names: No name\n",
      "\n"
     ]
    }
   ],
   "source": [
    "predict(\"আব্দুর রহিম নামের কাস্টমারকে একশ টাকা বাকি দিলাম\")\n",
    "predict(\"যুবলীগের কর্মী মাসুম ছাত্রদলের কর্মী সাদ্দামকে গুলি করেন\")\n",
    "predict(\"বন্দর থানার ভারপ্রাপ্ত কর্মকর্তা\")"
   ]
  },
  {
   "cell_type": "code",
   "execution_count": null,
   "metadata": {},
   "outputs": [],
   "source": []
  }
 ],
 "metadata": {
  "kernelspec": {
   "display_name": "venv",
   "language": "python",
   "name": "python3"
  },
  "language_info": {
   "codemirror_mode": {
    "name": "ipython",
    "version": 3
   },
   "file_extension": ".py",
   "mimetype": "text/x-python",
   "name": "python",
   "nbconvert_exporter": "python",
   "pygments_lexer": "ipython3",
   "version": "3.8.6"
  }
 },
 "nbformat": 4,
 "nbformat_minor": 2
}
